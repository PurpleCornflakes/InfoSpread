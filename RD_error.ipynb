{
 "cells": [
  {
   "cell_type": "code",
   "execution_count": 9,
   "metadata": {
    "collapsed": true,
    "scrolled": true
   },
   "outputs": [],
   "source": [
    "import numpy as np\n",
    "import networkx as nx\n",
    "\n",
    "import random\n"
   ]
  },
  {
   "cell_type": "code",
   "execution_count": 10,
   "metadata": {
    "collapsed": false,
    "scrolled": true
   },
   "outputs": [],
   "source": [
    "G=nx.barabasi_albert_graph(100,5)"
   ]
  },
  {
   "cell_type": "code",
   "execution_count": 11,
   "metadata": {
    "collapsed": false,
    "scrolled": true
   },
   "outputs": [],
   "source": [
    "def RD(G,S): #Input the network, times of simulation; return the average density r\n",
    "\n",
    "    #The parameters\n",
    "    a=0.4; b=0.2; p=0.2 # alpha, lambda and p \n",
    "    \n",
    "    N=G.number_of_nodes()\n",
    "    for ipt_p in np.linspace(0,10,num=11,endpoint=True):  #different in different model\n",
    "        num_error_nodes=N*ipt_p*0.01\n",
    "        M=int(num_error_nodes)\n",
    "        nodes=[]\n",
    "        while M>0:\n",
    "            r=random.random()\n",
    "            node=np.floor(N*r)\n",
    "            nodes.append(int(node))\n",
    "            M-=1\n",
    "        Gx=G.copy()\n",
    "        Gx.remove_nodes_from(nodes)\n",
    "        \n",
    "        final_statistics=[]\n",
    "        for seed in Gx.nodes(): #iteratively set seed of anti-rumor\n",
    "            statistics=[]\n",
    "            for i in Gx.nodes():\n",
    "                Gx.node[i]['rumor']=0 #Ignorant=0, Spreader=1 and Stifler=2   ???\n",
    "            Gx.node[seed]['rumor']=1\n",
    "    \n",
    "            for simulation in range(0,S):\n",
    "                G1=Gx.copy()\n",
    "                statistics1=[0,1,0]\n",
    "                while statistics1[1]>0: #Stop if no spreaders of R and AR\n",
    "                    G2=G1.copy()\n",
    "                    for i in G1.nodes():\n",
    "                        if G1.node[i]['rumor']==1: # if 1, then spreads  \n",
    "                            for j in G1.neighbors(i):\n",
    "                                if G1.node[j]['rumor']==0:\n",
    "                                    r1=random.random()\n",
    "                                    if r1<a: #if satisfied, accept the rumor\n",
    "                                        r2=random.random()\n",
    "                                        if r2<p:\n",
    "                                            G2.node[j]['rumor']=1\n",
    "                                        else:\n",
    "                                            G2.node[j]['rumor']=2\n",
    "                                else:\n",
    "                                    r3=random.random()\n",
    "                                    if r3<b: #if satisfied, S stops to spread\n",
    "                                        G2.node[i]['rumor']=2        \n",
    "                \n",
    "                    n_s=0;n_i=0;n_r=0 #Calculate number of S,I,R or rumor\n",
    "                    for k in G2.nodes():\n",
    "                        if G2.node[k]['rumor']==1:\n",
    "                            n_s=n_s+1\n",
    "                        elif G2.node[k]['rumor']==0:\n",
    "                            n_i=n_i+1\n",
    "                        else:\n",
    "                            n_r=n_r+1\n",
    "                    statistics1=[n_i,n_s,n_r]\n",
    "                    G1=G2.copy()\n",
    "                statistics.append(statistics1) #The results for each simulation are stored in it.\n",
    "            final_statistics.append(statistics)\n",
    "        \n",
    "        #The average density of stifler\n",
    "        N1=float(Gx.number_of_nodes());S1=float(S);density_r=0\n",
    "        for i in final_statistics:\n",
    "            for j in i:\n",
    "                    density_r=density_r+j[2]/N1\n",
    "        print density_r/(S1*N1)\n",
    "    print \"over\""
   ]
  },
  {
   "cell_type": "code",
   "execution_count": 12,
   "metadata": {
    "collapsed": false
   },
   "outputs": [
    {
     "name": "stdout",
     "output_type": "stream",
     "text": [
      "0.3114\n",
      "0.279002142639\n",
      "0.293835901708\n",
      "0.282017217558\n",
      "0.284016927083\n",
      "0.309307479224\n",
      "0.312019013128\n",
      "0.275812232628\n",
      "0.270793950851\n",
      "0.268747735781\n",
      "0.242222222222\n",
      "over\n",
      "CPU times: user 55.5 s, sys: 358 ms, total: 55.8 s\n",
      "Wall time: 56.3 s\n"
     ]
    }
   ],
   "source": [
    "time RD(G,2)"
   ]
  }
 ],
 "metadata": {
  "kernelspec": {
   "display_name": "Python 3",
   "language": "python",
   "name": "python3"
  },
  "language_info": {
   "codemirror_mode": {
    "name": "ipython",
    "version": 3
   },
   "file_extension": ".py",
   "mimetype": "text/x-python",
   "name": "python",
   "nbconvert_exporter": "python",
   "pygments_lexer": "ipython3",
   "version": "3.6.0"
  }
 },
 "nbformat": 4,
 "nbformat_minor": 0
}
