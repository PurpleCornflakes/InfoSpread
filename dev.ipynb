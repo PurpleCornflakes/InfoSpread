{
 "cells": [
  {
   "cell_type": "code",
   "execution_count": 13,
   "metadata": {
    "collapsed": true
   },
   "outputs": [],
   "source": [
    "%load_ext Cython"
   ]
  },
  {
   "cell_type": "code",
   "execution_count": 14,
   "metadata": {
    "collapsed": false,
    "scrolled": true
   },
   "outputs": [
    {
     "name": "stderr",
     "output_type": "stream",
     "text": [
      "\n",
      "Error compiling Cython file:\n",
      "------------------------------------------------------------\n",
      "...\n",
      "\n",
      "def init_status(np.ndarray[np.int32_t, ndim = 2] adjlist_m):\n",
      "#     cdef np.ndarray[np.int32_t, ndim = 2] states = np.zeros(N,3)\n",
      "#     cdef np.ndarray[np.int32_t, ndim = 2] new_states = np.zeros(N,3)\n",
      "    states[:,1] = 1  \n",
      "    new_states= [:,1] = 1\n",
      "                ^\n",
      "------------------------------------------------------------\n",
      "\n",
      "/Users/qinglingzhang/.ipython/cython/_cython_magic_85d5808d3fc9826c241781cce2bd5aaf.pyx:43:17: Expected an identifier or literal\n"
     ]
    }
   ],
   "source": [
    "%%cython\n",
    "\n",
    "import networkx as nx\n",
    "import numpy as np\n",
    "cimport numpy as np\n",
    "import numpy.random\n",
    "\n",
    "seed(2017)\n",
    "\n",
    "def construct_adjlist():\n",
    "    g = nx.barabasi_albert_graph(n=4000, m=10)\n",
    "\n",
    "    adjlist = nx.generate_adjlist(g, delimiter=\",\")\n",
    "    adjlist = [np.array([eval(x)]).flatten() for x in adjlist]\n",
    "\n",
    "    lens = [len(x) for x in adjlist]\n",
    "    maxlen = max(lens)\n",
    "    n = g.number_of_nodes()\n",
    "\n",
    "    adjlist_m = np.ones([n, maxlen], dtype = int) * (-1)\n",
    "\n",
    "    for nn in range(n):\n",
    "        adjlist_m[nn, :lens[nn]] = adjlist[nn]\n",
    "\n",
    "    return adjlist_m\n",
    "\n",
    "N = adjlist_m.shape[0]\n",
    "\n",
    "def evaluate(np.ndarray[np.int32_t, ndim = 2] adjlist_m):\n",
    "    pass\n",
    "    \n",
    "\n",
    "def init_status(np.ndarray[np.int32_t, ndim = 2] adjlist_m):\n",
    "#     cdef np.ndarray[np.int32_t, ndim = 2] states = np.zeros(N,3)\n",
    "#     cdef np.ndarray[np.int32_t, ndim = 2] new_states = np.zeros(N,3)\n",
    "    states[:,1] = 1  \n",
    "    new_states= [:,1] = 1\n",
    "    return (states, new_states)\n",
    "\n",
    "def info_spread(np.ndarray[np.int32_t, ndim = 2] adjlist_m, states, new_states):\n",
    "    \n",
    "    p = 0.2\n",
    "    new_states = states\n",
    "    for n_i in range(N):\n",
    "        count_S[n_i] = sum(states[n_j,0] for n_j in adjlist_m[n_i,:])\n",
    "        alpha_S[n_i] = np.tanh(count_S[n_i]/2.0) # when n_s = 4, alpha -> 1\n",
    "        if states[n_i,2] == 1:\n",
    "            # n_i is 'R'\n",
    "            continue\n",
    "        if states[n_i,1] == 1:\n",
    "            # n_i is 'I'\n",
    "            if random() < alpha_S[n_i]*p:\n",
    "                # I-->S\n",
    "                new_states[n_i,1] = 0\n",
    "                new_states[n_i,0] = 1\n",
    "            elif random() < alpha_S[n_i]*(1-p):\n",
    "                # I-->R\n",
    "                new_states[n_i,1] = 0\n",
    "                new_states[n_i,2] = 1\n",
    "        else:\n",
    "            assert(state[n_i,0] == 1)\n",
    "            # n_i is 'S'\n",
    "            if random() < lamda:\n",
    "                # S -> R\n",
    "                new_states[n_i,0] = 0\n",
    "                new_states[n_i,2] = 1\n",
    "            \n",
    "        \n",
    "    \n",
    "        \n",
    "        \n",
    "    \n",
    "    states = new_states\n",
    "    return (states, new_states)\n"
   ]
  },
  {
   "cell_type": "code",
   "execution_count": 11,
   "metadata": {
    "collapsed": false
   },
   "outputs": [
    {
     "data": {
      "text/plain": [
       "array([  0.        ,   0.20408163,   0.40816327,   0.6122449 ,\n",
       "         0.81632653,   1.02040816,   1.2244898 ,   1.42857143,\n",
       "         1.63265306,   1.83673469,   2.04081633,   2.24489796,\n",
       "         2.44897959,   2.65306122,   2.85714286,   3.06122449,\n",
       "         3.26530612,   3.46938776,   3.67346939,   3.87755102,\n",
       "         4.08163265,   4.28571429,   4.48979592,   4.69387755,\n",
       "         4.89795918,   5.10204082,   5.30612245,   5.51020408,\n",
       "         5.71428571,   5.91836735,   6.12244898,   6.32653061,\n",
       "         6.53061224,   6.73469388,   6.93877551,   7.14285714,\n",
       "         7.34693878,   7.55102041,   7.75510204,   7.95918367,\n",
       "         8.16326531,   8.36734694,   8.57142857,   8.7755102 ,\n",
       "         8.97959184,   9.18367347,   9.3877551 ,   9.59183673,\n",
       "         9.79591837,  10.        ])"
      ]
     },
     "execution_count": 11,
     "metadata": {},
     "output_type": "execute_result"
    }
   ],
   "source": [
    "import numpy as np\n",
    "np.linspace(0,10)"
   ]
  },
  {
   "cell_type": "code",
   "execution_count": null,
   "metadata": {
    "collapsed": true
   },
   "outputs": [],
   "source": []
  }
 ],
 "metadata": {
  "kernelspec": {
   "display_name": "Python 3",
   "language": "python",
   "name": "python3"
  },
  "language_info": {
   "codemirror_mode": {
    "name": "ipython",
    "version": 3
   },
   "file_extension": ".py",
   "mimetype": "text/x-python",
   "name": "python",
   "nbconvert_exporter": "python",
   "pygments_lexer": "ipython3",
   "version": "3.6.0"
  }
 },
 "nbformat": 4,
 "nbformat_minor": 2
}
