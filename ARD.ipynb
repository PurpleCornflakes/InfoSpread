{
 "cells": [
  {
   "cell_type": "code",
   "execution_count": 17,
   "metadata": {
    "collapsed": true,
    "scrolled": false
   },
   "outputs": [],
   "source": [
    "import numpy as np\n",
    "import networkx as nx\n",
    "import matplotlib.pyplot as plt\n",
    "import matplotlib\n",
    "import randoms\n",
    "%matplotlib inline"
   ]
  },
  {
   "cell_type": "code",
   "execution_count": 18,
   "metadata": {
    "collapsed": false,
    "scrolled": false
   },
   "outputs": [],
   "source": [
    "G=nx.barabasi_albert_graph(100,5)"
   ]
  },
  {
   "cell_type": "code",
   "execution_count": 19,
   "metadata": {
    "collapsed": false,
    "scrolled": false
   },
   "outputs": [],
   "source": [
    "def ARD(G,S): #Input the network, times of simulation; return the average density r\n",
    "    \n",
    "    #The parameters\n",
    "    a=0.4; b=0.2; p=0.2 # alpha, lambda and p \n",
    "    seed_of_rumor=99\n",
    "    ipt_t=5\n",
    "    \n",
    "    final_statistics=[]\n",
    "    N=G.number_of_nodes()\n",
    "    for seed in G.nodes(): #iteratively set seed of anti-rumor\n",
    "        statistics=[]\n",
    "        for i in G.nodes():\n",
    "            G.node[i]['rumor']=0 #Ignorant=0, Spreader=1 and Stifler=2, f=-1\n",
    "            G.node[i]['anti_rumor']=0\n",
    "        G.node[seed_of_rumor]['rumor']=1\n",
    "        G.node[seed]['anti_rumor']=1\n",
    "    \n",
    "        for simulation in range(0,S):\n",
    "            G1=G.copy()\n",
    "            statistics1=[0,1,0,0]\n",
    "            statistics2=[0,1,0]\n",
    "            time=0\n",
    "            while statistics1[1]>0 or statistics2[1]>0: #Stop if no spreaders of R and AR\n",
    "                G2=G1.copy()\n",
    "                for i in G1.nodes():\n",
    "                    if G1.node[i]['rumor']==1: # if 1, then spreads  \n",
    "                        for j in G1.neighbors(i):\n",
    "                            if G1.node[j]['rumor']==0:\n",
    "                                r1=random.random()\n",
    "                                if r1<a: #if satisfied, accept the rumor\n",
    "                                    r2=random.random()\n",
    "                                    if r2<p:\n",
    "                                        G2.node[j]['rumor']=1\n",
    "                                    else:\n",
    "                                        G2.node[j]['rumor']=2\n",
    "                            else:\n",
    "                                r3=random.random()\n",
    "                                if r3<b: #if satisfied, S stops to spread\n",
    "                                    G2.node[i]['rumor']=2                   \n",
    "                \n",
    "                if time>=ipt_t: #AR starts to spread\n",
    "                    for i in G1.nodes():\n",
    "                        if G1.node[i]['anti_rumor']==1: # if 1, then spreads  \n",
    "                            for j in G1.neighbors(i):\n",
    "                                if G1.node[j]['anti_rumor']==0:\n",
    "                                    r1=random.random()\n",
    "                                    if r1<a: #if satisfied, accept the rumor\n",
    "                                        r2=random.random()\n",
    "                                        if r2<p:\n",
    "                                            G2.node[j]['anti_rumor']=1\n",
    "                                        else:\n",
    "                                            G2.node[j]['anti_rumor']=2\n",
    "                                else:\n",
    "                                    r3=random.random()\n",
    "                                    if r3<b: #if satisfied, S stops to spread\n",
    "                                        G2.node[i]['anti_rumor']=2    \n",
    "                \n",
    "                    for i in G2.nodes(): #The priority of anti-rumor\n",
    "                        if G2.node[i]['anti_rumor']==1 or G2.node[i]['anti_rumor']==2:\n",
    "                            G2.node[i]['rumor']=-1\n",
    "                    \n",
    "                    n_s2=0;n_i2=0;n_r2=0 #Calculate number of S,I,R of anti-rumor\n",
    "                    for k in G2.nodes():\n",
    "                        if G2.node[k]['anti_rumor']==1:\n",
    "                            n_s2=n_s2+1\n",
    "                        elif G2.node[k]['anti_rumor']==0:\n",
    "                            n_i2=n_i2+1\n",
    "                        else:\n",
    "                            n_r2=n_r2+1\n",
    "                    statistics2=[n_i2,n_s2,n_r2]               \n",
    "                \n",
    "                n_s=0;n_i=0;n_r=0;n_f=0 #Calculate number of S,I,R of rumor\n",
    "                for k in G2.nodes():\n",
    "                    if G2.node[k]['rumor']==1:\n",
    "                        n_s=n_s+1\n",
    "                    elif G2.node[k]['rumor']==0:\n",
    "                        n_i=n_i+1\n",
    "                    elif G2.node[k]['rumor']==2:\n",
    "                        n_r=n_r+1\n",
    "                    else:\n",
    "                        n_f=n_f+1\n",
    "                statistics1=[n_i,n_s,n_r,n_f]\n",
    "                G1=G2.copy()\n",
    "                time=time+1\n",
    "            statistics.append(statistics1) #The results for each simulation are stored in it.\n",
    "        final_statistics.append(statistics)\n",
    "\n",
    "    #The average density of stifler\n",
    "    N1=float(N);S1=float(S);density_r=0\n",
    "    for i in final_statistics:\n",
    "        for j in i:\n",
    "            density_r=density_r+j[2]/N1\n",
    "    return density_r/(S1*N1) "
   ]
  },
  {
   "cell_type": "code",
   "execution_count": 20,
   "metadata": {
    "collapsed": false
   },
   "outputs": [
    {
     "data": {
      "text/plain": [
       "0.11429999999999998"
      ]
     },
     "execution_count": 20,
     "metadata": {},
     "output_type": "execute_result"
    }
   ],
   "source": [
    "ARD(G,1)"
   ]
  }
 ],
 "metadata": {
  "kernelspec": {
   "display_name": "Python 2",
   "language": "python",
   "name": "python2"
  },
  "language_info": {
   "codemirror_mode": {
    "name": "ipython",
    "version": 2
   },
   "file_extension": ".py",
   "mimetype": "text/x-python",
   "name": "python",
   "nbconvert_exporter": "python",
   "pygments_lexer": "ipython2",
   "version": "2.7.11"
  }
 },
 "nbformat": 4,
 "nbformat_minor": 0
}
