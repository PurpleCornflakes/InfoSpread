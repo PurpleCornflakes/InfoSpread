{
 "cells": [
  {
   "cell_type": "code",
   "execution_count": 1,
   "metadata": {
    "collapsed": false
   },
   "outputs": [],
   "source": [
    "%load_ext Cython"
   ]
  },
  {
   "cell_type": "code",
   "execution_count": 7,
   "metadata": {
    "collapsed": false
   },
   "outputs": [
    {
     "name": "stdout",
     "output_type": "stream",
     "text": [
      "[[0, 56], [1, 1], [2, 53], [3, 1], [4, 37], [5, 1], [6, 44], [7, 1], [8, 14], [9, 1], [10, 25], [11, 1], [12, 1], [13, 1], [14, 25], [15, 2], [16, 4], [17, 21], [18, 1], [19, 11], [20, 2], [21, 5], [22, 17], [23, 1], [24, 5], [25, 1], [26, 2], [27, 1], [28, 1], [29, 0], [30, 1], [31, 1], [32, 1], [33, 1], [34, 2], [35, 1], [36, 1], [37, 1], [38, 13], [39, 2], [40, 1], [41, 5], [42, 1], [43, 0], [44, 1], [45, 3], [46, 3], [47, 0], [48, 4], [49, 5], [50, 1], [51, 3], [52, 1], [53, 4], [54, 0], [55, 0], [56, 0], [57, 13], [58, 7], [59, 1], [60, 0], [61, 80], [62, 1], [63, 0], [64, 0], [65, 5], [66, 1], [67, 0], [68, 0], [69, 0], [70, 0], [71, 0], [72, 0], [73, 0], [74, 0], [75, 0], [76, 0], [77, 0], [78, 0], [79, 0], [80, 0], [81, 0], [82, 0], [83, 0], [84, 0], [85, 0], [86, 0], [87, 0], [88, 0], [89, 0], [90, 0], [91, 0], [92, 0], [93, 0], [94, 0], [95, 0], [96, 0], [97, 0], [98, 0], [99, 0], [100, 0], [101, 0], [102, 0], [103, 0], [104, 0], [105, 0], [106, 0], [107, 0], [108, 0], [109, 0], [110, 0], [111, 0], [112, 0], [113, 0], [114, 0], [115, 0], [116, 0], [117, 0], [118, 0], [119, 0], [120, 0], [121, 0], [122, 0], [123, 0], [124, 0], [125, 0], [126, 0], [127, 0], [128, 0], [129, 0], [130, 0], [131, 0], [132, 0], [133, 0], [134, 0], [135, 0], [136, 0], [137, 0], [138, 0], [139, 0], [140, 0], [141, 0], [142, 0], [143, 0], [144, 0], [145, 0], [146, 0], [147, 0], [148, 0], [149, 0], [150, 0], [151, 0], [152, 0], [153, 0], [154, 0], [155, 0], [156, 0], [157, 0], [158, 0], [159, 0], [160, 0], [161, 0], [162, 0], [163, 0], [164, 0], [165, 0], [166, 0], [167, 0], [168, 0], [169, 0], [170, 0], [171, 0], [172, 0], [173, 0], [174, 0], [175, 0], [176, 0], [177, 0], [178, 0], [179, 0], [180, 0], [181, 0], [182, 0], [183, 0], [184, 0], [185, 0], [186, 0], [187, 0], [188, 0], [189, 0], [190, 0], [191, 0], [192, 0], [193, 0], [194, 0], [195, 0], [196, 0], [197, 0], [198, 0], [199, 0], [200, 0], [201, 0], [202, 0], [203, 0], [204, 0], [205, 0], [206, 0], [207, 0], [208, 0], [209, 0], [210, 0], [211, 0], [212, 0], [213, 0], [214, 0], [215, 0], [216, 0], [217, 0], [218, 0], [219, 0], [220, 0], [221, 0], [222, 0], [223, 0], [224, 0], [225, 0], [226, 0], [227, 0], [228, 0], [229, 0], [230, 0], [231, 0], [232, 0], [233, 0], [234, 0], [235, 0], [236, 0], [237, 0], [238, 0], [239, 0], [240, 0], [241, 0], [242, 0], [243, 0], [244, 0], [245, 0], [246, 0], [247, 0], [248, 0], [249, 0], [250, 0], [251, 0], [252, 0], [253, 0], [254, 0], [255, 0], [256, 0], [257, 0], [258, 0], [259, 0], [260, 0], [261, 0], [262, 0], [263, 0], [264, 0], [265, 0], [266, 0], [267, 0], [268, 0], [269, 0], [270, 0], [271, 0], [272, 0], [273, 0], [274, 0], [275, 0], [276, 0], [277, 0], [278, 0], [279, 0], [280, 0], [281, 0], [282, 0], [283, 0], [284, 0], [285, 0], [286, 0], [287, 0], [288, 0], [289, 0], [290, 0], [291, 0], [292, 0], [293, 0], [294, 0], [295, 0], [296, 0], [297, 0], [298, 0], [299, 0], [300, 0], [301, 0], [302, 0], [303, 0], [304, 0], [305, 0], [306, 0], [307, 0], [308, 0], [309, 0], [310, 0], [311, 0], [312, 0], [313, 0], [314, 0], [315, 0], [316, 0], [317, 0], [318, 0], [319, 0], [320, 0], [321, 0], [322, 0], [323, 0], [324, 0], [325, 0], [326, 0], [327, 0], [328, 0], [329, 0], [330, 0], [331, 0], [332, 0], [333, 0], [334, 0], [335, 0], [336, 0], [337, 0], [338, 0], [339, 0], [340, 0], [341, 0], [342, 0], [343, 0], [344, 0], [345, 0], [346, 0], [347, 0], [348, 0], [349, 0], [350, 0], [351, 0], [352, 0], [353, 0], [354, 0], [355, 0], [356, 0], [357, 0], [358, 0], [359, 0], [360, 0], [361, 0], [362, 0], [363, 0], [364, 0], [365, 0], [366, 0], [367, 0], [368, 0], [369, 0], [370, 0], [371, 0], [372, 0], [373, 0], [374, 0], [375, 0], [376, 0], [377, 0], [378, 0], [379, 0], [380, 0], [381, 0], [382, 0], [383, 0], [384, 0], [385, 0], [386, 0], [387, 0], [388, 0], [389, 0], [390, 0], [391, 0], [392, 0], [393, 0], [394, 0], [395, 0], [396, 0], [397, 0], [398, 0], [399, 0], [400, 0], [401, 0], [402, 0], [403, 0], [404, 0], [405, 0], [406, 0], [407, 0], [408, 0], [409, 0], [410, 0], [411, 0], [412, 0], [413, 0], [414, 0], [415, 0], [416, 0], [417, 0], [418, 0], [419, 0], [420, 0], [421, 0], [422, 0], [423, 0], [424, 0], [425, 0], [426, 0], [427, 0], [428, 0], [429, 0], [430, 0], [431, 0], [432, 0], [433, 0], [434, 0], [435, 0], [436, 0], [437, 0], [438, 0], [439, 0], [440, 0], [441, 0], [442, 0], [443, 0], [444, 0], [445, 0], [446, 0], [447, 0], [448, 0], [449, 0], [450, 0], [451, 0], [452, 0], [453, 0], [454, 0], [455, 0], [456, 0], [457, 0], [458, 0], [459, 0], [460, 0], [461, 0], [462, 0], [463, 0], [464, 0], [465, 0], [466, 0], [467, 0], [468, 0], [469, 0], [470, 0], [471, 0], [472, 0], [473, 0], [474, 0], [475, 0], [476, 0], [477, 0], [478, 0], [479, 0], [480, 0], [481, 0], [482, 0], [483, 0], [484, 0], [485, 0], [486, 0], [487, 0], [488, 0], [489, 0], [490, 0], [491, 0], [492, 0], [493, 0], [494, 0], [495, 0], [496, 0], [497, 0], [498, 0], [499, 0]]\n"
     ]
    }
   ],
   "source": [
    "import networkx as nx\n",
    "import numpy as np\n",
    "from operator import itemgetter\n",
    "def construct():\n",
    "    g = nx.read_edgelist('BA500.csv',delimiter=\",\")\n",
    "#     g = nx.barabasi_albert_graph(n=500, m=10,seed=2017)\n",
    "    adjlist = nx.generate_adjlist(g, delimiter=\",\")\n",
    "    adjlist = [np.array([eval(x)]).flatten() for x in adjlist]\n",
    "\n",
    "    lens = [len(x) for x in adjlist]\n",
    "    n = g.number_of_nodes()\n",
    "    \n",
    "    adjlist_m = np.ones([n, max(lens)], dtype = np.int32) * (-1)\n",
    "    for nn in range(n):\n",
    "        adjlist_m[nn, :lens[nn]] = adjlist[nn]\n",
    "    \n",
    "#     degree_list = [ [node,degree] for node, degree in g.degree(range(n)).items() ]\n",
    "    degree_list = []\n",
    "    for i in range(n):\n",
    "        degree_list.append([i,sum(np.where(adjlist_m[i] != -1, 1, 0))-1])\n",
    "    print(degree_list)\n",
    "    sorted_degrees = sorted(degree_list, key=itemgetter(1), reverse = True)\n",
    "    return sorted_degrees,adjlist_m\n",
    "\n",
    "sorted_degrees,adjlist_m = construct()"
   ]
  },
  {
   "cell_type": "code",
   "execution_count": 18,
   "metadata": {
    "collapsed": false
   },
   "outputs": [],
   "source": [
    "%%cython \n",
    "import numpy as np\n",
    "cimport numpy as np\n",
    "\n",
    "'''\n",
    "Ignorant: 0\n",
    "Spreader: 1\n",
    "Stifler : 2\n",
    "'''\n",
    "\n",
    "cdef _info_spread(np.ndarray[np.int32_t, ndim=2] adjlist_m, \\\n",
    "                np.ndarray[np.int32_t, ndim=1] states):  \n",
    "    cdef int N = adjlist_m.shape[0]\n",
    "    cdef int change = 0\n",
    "    cdef float alpha = 0.4\n",
    "    cdef float p = 0.2\n",
    "    cdef float lamda = 0.2\n",
    "    cdef Py_ssize_t n_i,n_j\n",
    "    cdef np.ndarray[np.int32_t, ndim=1] new_states = states\n",
    "    \n",
    "    for n_i in range(N):\n",
    "        # the node has been removed\n",
    "        if adjlist_m[n_i,0] == -1:\n",
    "            continue\n",
    "        \n",
    "        # n_i is not 'S'\n",
    "        if states[n_i] == 2 or states[n_i] == 0:\n",
    "            continue \n",
    "            \n",
    "        # n_i is 'S'\n",
    "        for n_j in adjlist_m[n_i,1:]: \n",
    "            # !! Discard Padding\n",
    "            if n_j == -1:\n",
    "                continue\n",
    "            # n_j is 'I'\n",
    "            if states[n_j] == 0:\n",
    "                # I-->S\n",
    "                if np.random.random() < alpha*p:\n",
    "                    new_states[n_j] = 1\n",
    "                    change += 1\n",
    "                # I-->R\n",
    "                elif np.random.random() < alpha*(1-p):\n",
    "                    new_states[n_j] = 2\n",
    "                    change += 1\n",
    "            # n_j is 'R' or 'S'\n",
    "            elif np.random.random() < lamda:\n",
    "                    # S -> R\n",
    "                    new_states[n_i] = 2\n",
    "                    change += 1\n",
    "                    break\n",
    "            \n",
    "    return new_states,change\n",
    "\n",
    "\n",
    "def InfoSpread(adjlist, seeds, nodes_to_rm):\n",
    "    N = adjlist.shape[0]\n",
    "    change = 1 \n",
    "    states = np.zeros(N,dtype=np.int32)\n",
    "    \n",
    "    # =================Initialize================\n",
    "    '''\n",
    "    rm nodes and set seeds --- Note: Don't set removed nodes as seeds\n",
    "    '''\n",
    "    # rm nodes from adjlist <=> set to -1\n",
    "    for i in nodes_to_rm:\n",
    "        for nns in adjlist[i,1:]:\n",
    "            # disconnect i from its nns\n",
    "            adjlist[nns,:] = np.where(adjlist[nns,:]==i, -1, adjlist[nns,:])\n",
    "        # disconnect i and its nns\n",
    "        adjlist[i,:] = -1\n",
    "\n",
    "    #set seeds\n",
    "    for seed in seeds:\n",
    "        states[seed] = 1\n",
    "    #rm nodes\n",
    "    for i in nodes_to_rm:\n",
    "        states[i] = -1\n",
    "        \n",
    "    \n",
    "    #==============iter til converge==============\n",
    "    while change:\n",
    "        states,change = _info_spread(adjlist, states)\n",
    "        \n",
    "    return states"
   ]
  },
  {
   "cell_type": "code",
   "execution_count": 8,
   "metadata": {
    "collapsed": false
   },
   "outputs": [
    {
     "ename": "IndexError",
     "evalue": "too many indices for array",
     "output_type": "error",
     "traceback": [
      "\u001b[0;31m---------------------------------------------------------------------------\u001b[0m",
      "\u001b[0;31mIndexError\u001b[0m                                Traceback (most recent call last)",
      "\u001b[0;32m<ipython-input-8-8801d082fdb9>\u001b[0m in \u001b[0;36m<module>\u001b[0;34m()\u001b[0m\n\u001b[1;32m     27\u001b[0m \u001b[0;34m\u001b[0m\u001b[0m\n\u001b[1;32m     28\u001b[0m \u001b[0;32mif\u001b[0m \u001b[0m__name__\u001b[0m \u001b[0;34m==\u001b[0m \u001b[0;34m'__main__'\u001b[0m\u001b[0;34m:\u001b[0m\u001b[0;34m\u001b[0m\u001b[0m\n\u001b[0;32m---> 29\u001b[0;31m     \u001b[0mattack_list_k\u001b[0m \u001b[0;34m=\u001b[0m \u001b[0mnp\u001b[0m\u001b[0;34m.\u001b[0m\u001b[0marray\u001b[0m\u001b[0;34m(\u001b[0m\u001b[0msorted_degrees\u001b[0m\u001b[0;34m)\u001b[0m\u001b[0;34m[\u001b[0m\u001b[0;34m:\u001b[0m\u001b[0;36m25\u001b[0m\u001b[0;34m,\u001b[0m\u001b[0;36m0\u001b[0m\u001b[0;34m]\u001b[0m\u001b[0;34m\u001b[0m\u001b[0m\n\u001b[0m\u001b[1;32m     30\u001b[0m     \u001b[0mmain_simulate\u001b[0m\u001b[0;34m(\u001b[0m\u001b[0madjlist_m\u001b[0m\u001b[0;34m,\u001b[0m\u001b[0mattack_list_k\u001b[0m\u001b[0;34m)\u001b[0m\u001b[0;34m\u001b[0m\u001b[0m\n",
      "\u001b[0;31mIndexError\u001b[0m: too many indices for array"
     ]
    }
   ],
   "source": [
    "import matplotlib.pyplot as plt\n",
    "\n",
    "# np.random.seed(2017)\n",
    "\n",
    "def main_simulate(adjlist, nodes_to_rm):\n",
    "    N = adjlist.shape[0]\n",
    "    rm_nodes = []\n",
    "    Avr_rhos = []\n",
    "    for i in nodes_to_rm:\n",
    "        rm_nodes.append(i)\n",
    "        rho = 0\n",
    "        for seed in range(N):\n",
    "            final_states = InfoSpread(adjlist, [seed], rm_nodes)\n",
    "            rho += sum(np.where(np.array(final_states) == 2, 1, 0))/N\n",
    "        rho=rho/500\n",
    "        \n",
    "#         for seed in range(N):\n",
    "#             for _ in range(100):\n",
    "#                 final_states = InfoSpread(adjlist, [seed], rm_nodes)\n",
    "#                 rho += sum(np.where(np.array(final_states) == 2, 1, 0))/N\n",
    "#         rho=rho/500/100\n",
    "        \n",
    "        Avr_rhos.append(rho)\n",
    "        \n",
    "    plt.plot(range(25), Avr_rhos,'ro')\n",
    "    plt.show()\n",
    "\n",
    "if __name__ == '__main__':\n",
    "    attack_list_k = np.array(sorted_degrees)[:25,0]\n",
    "    main_simulate(adjlist_m,attack_list_k)"
   ]
  },
  {
   "cell_type": "code",
   "execution_count": 19,
   "metadata": {
    "collapsed": false
   },
   "outputs": [
    {
     "data": {
      "text/plain": [
       "[]"
      ]
     },
     "execution_count": 19,
     "metadata": {},
     "output_type": "execute_result"
    }
   ],
   "source": [
    "sorted_degrees"
   ]
  },
  {
   "cell_type": "code",
   "execution_count": null,
   "metadata": {
    "collapsed": true
   },
   "outputs": [],
   "source": []
  }
 ],
 "metadata": {
  "kernelspec": {
   "display_name": "Python 3",
   "language": "python",
   "name": "python3"
  },
  "language_info": {
   "codemirror_mode": {
    "name": "ipython",
    "version": 3
   },
   "file_extension": ".py",
   "mimetype": "text/x-python",
   "name": "python",
   "nbconvert_exporter": "python",
   "pygments_lexer": "ipython3",
   "version": "3.6.0"
  }
 },
 "nbformat": 4,
 "nbformat_minor": 2
}
