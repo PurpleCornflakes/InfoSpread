{
 "cells": [
  {
   "cell_type": "code",
   "execution_count": 1,
   "metadata": {
    "collapsed": false
   },
   "outputs": [],
   "source": [
    "%load_ext Cython"
   ]
  },
  {
   "cell_type": "code",
   "execution_count": 2,
   "metadata": {
    "collapsed": false
   },
   "outputs": [],
   "source": [
    "import networkx as nx\n",
    "import numpy as np\n",
    "from operator import itemgetter\n",
    "def construct():\n",
    "    g = nx.barabasi_albert_graph(n=500, m=10,seed=2017)\n",
    "\n",
    "    adjlist = nx.generate_adjlist(g, delimiter=\",\")\n",
    "    adjlist = [np.array([eval(x)]).flatten() for x in adjlist]\n",
    "\n",
    "    lens = [len(x) for x in adjlist]\n",
    "    maxlen = max(lens)\n",
    "    n = g.number_of_nodes()\n",
    "    \n",
    "    adjlist_m = np.ones([n, maxlen], dtype = np.int32) * (-1)\n",
    "    for nn in range(n):\n",
    "        adjlist_m[nn, :lens[nn]] = adjlist[nn]\n",
    "    \n",
    "    degree_list = [ [node,degree] for node, degree in g.degree(range(n)).items() ]\n",
    "    sorted_degrees = sorted(degree_list, key=itemgetter(1), reverse = True)\n",
    "    \n",
    "    return sorted_degrees,adjlist_m\n",
    "\n",
    "sorted_degrees,adjlist_m = construct()"
   ]
  },
  {
   "cell_type": "code",
   "execution_count": 57,
   "metadata": {
    "collapsed": false
   },
   "outputs": [],
   "source": [
    "%%cython \n",
    "import numpy as np\n",
    "cimport numpy as np\n",
    "\n",
    "'''\n",
    "Ignorant: 0\n",
    "Spreader: 1\n",
    "Stifler : 2\n",
    "'''\n",
    "\n",
    "cdef _info_spread(np.ndarray[np.int32_t, ndim=2] adjlist_m, \\\n",
    "                np.ndarray[np.int32_t, ndim=1] states):  \n",
    "    cdef int N = adjlist_m.shape[0]\n",
    "    cdef int change = 0\n",
    "    cdef float alpha = 0.4\n",
    "    cdef float p = 0.2\n",
    "    cdef float lamda = 0.2\n",
    "    cdef Py_ssize_t n_i,n_j\n",
    "    cdef np.ndarray[np.int32_t, ndim=1] new_states = states\n",
    "    \n",
    "    for n_i in range(N):\n",
    "        # the node has been removed\n",
    "        if adjlist_m[n_i,0] == -1:\n",
    "            continue\n",
    "        \n",
    "        # n_i is not 'S'\n",
    "        if states[n_i] == 2 or states[n_i] == 0:\n",
    "            continue \n",
    "            \n",
    "        # n_i is 'S'\n",
    "        for n_j in adjlist_m[n_i,1:]: \n",
    "            # !! Discard Padding\n",
    "            if n_j == -1:\n",
    "                continue\n",
    "            # n_j is 'I'\n",
    "            if states[n_j] == 0:\n",
    "                # I-->S\n",
    "                if np.random.random() < alpha*p:\n",
    "                    new_states[n_j] = 1\n",
    "                    change += 1\n",
    "                # I-->R\n",
    "                elif np.random.random() < alpha*(1-p):\n",
    "                    new_states[n_j] = 2\n",
    "                    change += 1\n",
    "            # n_j is 'R' or 'S'\n",
    "            elif np.random.random() < lamda:\n",
    "                    # S -> R\n",
    "                    new_states[n_i] = 2\n",
    "                    change += 1\n",
    "                    break\n",
    "            \n",
    "    return new_states,change\n",
    "\n",
    "\n",
    "def InfoSpread(adjlist, seeds, nodes_to_rm):\n",
    "    N = adjlist.shape[0]\n",
    "    change = 1 \n",
    "    states = np.zeros(N,dtype=np.int32)\n",
    "    \n",
    "    # =================Initialize================\n",
    "    '''\n",
    "    rm nodes and set seeds --- Note: Don't set removed nodes as seeds\n",
    "    '''\n",
    "    # rm nodes from adjlist <=> set to -1\n",
    "    for i in nodes_to_rm:\n",
    "        for nns in adjlist[i,1:]:\n",
    "            # disconnect i from its nns\n",
    "            adjlist[nns,:] = np.where(adjlist[nns,:]==i, -1, adjlist[nns,:])\n",
    "        # disconnect i and its nns\n",
    "        adjlist[i,:] = -1\n",
    "\n",
    "    #set seeds\n",
    "    for seed in seeds:\n",
    "        states[seed] = 1\n",
    "    #rm nodes\n",
    "    for i in nodes_to_rm:\n",
    "        states[i] = -1\n",
    "        \n",
    "    \n",
    "    #==============iter til converge==============\n",
    "    while change:\n",
    "        states,change = _info_spread(adjlist, states)\n",
    "        \n",
    "    return states"
   ]
  },
  {
   "cell_type": "code",
   "execution_count": 62,
   "metadata": {
    "collapsed": false
   },
   "outputs": [
    {
     "data": {
      "image/png": "[encoded data removed]",
      "text/plain": [
       "<matplotlib.figure.Figure at 0x112d5c6d8>"
      ]
     },
     "metadata": {},
     "output_type": "display_data"
    }
   ],
   "source": [
    "import matplotlib.pyplot as plt\n",
    "\n",
    "# np.random.seed(2017)\n",
    "\n",
    "def main_simulate(adjlist, nodes_to_rm):\n",
    "    N = adjlist.shape[0]\n",
    "    rm_nodes = []\n",
    "    Avr_rhos = []\n",
    "    for i in nodes_to_rm:\n",
    "        rm_nodes.append(i)\n",
    "        rho = 0\n",
    "        for seed in range(N):\n",
    "            for _ in range(100):\n",
    "                final_states = InfoSpread(adjlist, [seed], rm_nodes)\n",
    "                rho += sum(np.where(np.array(final_states) == 2, 1, 0))/N\n",
    "        rho=rho/500/100\n",
    "        \n",
    "        Avr_rhos.append(rho)\n",
    "        \n",
    "    plt.plot(range(25), Avr_rhos,'ro')\n",
    "    plt.show()\n",
    "\n",
    "if __name__ == '__main__':\n",
    "    attack_list_k = np.array(sorted_degrees)[:25,0]\n",
    "    main_simulate(adjlist_m,attack_list_k)"
   ]
  },
  {
   "cell_type": "code",
   "execution_count": 63,
   "metadata": {
    "collapsed": false
   },
   "outputs": [
    {
     "data": {
      "text/plain": [
       "0.5"
      ]
     },
     "execution_count": 63,
     "metadata": {},
     "output_type": "execute_result"
    }
   ],
   "source": []
  },
  {
   "cell_type": "code",
   "execution_count": null,
   "metadata": {
    "collapsed": true
   },
   "outputs": [],
   "source": []
  }
 ],
 "metadata": {
  "kernelspec": {
   "display_name": "Python 3",
   "language": "python",
   "name": "python3"
  },
  "language_info": {
   "codemirror_mode": {
    "name": "ipython",
    "version": 3
   },
   "file_extension": ".py",
   "mimetype": "text/x-python",
   "name": "python",
   "nbconvert_exporter": "python",
   "pygments_lexer": "ipython3",
   "version": "3.6.0"
  }
 },
 "nbformat": 4,
 "nbformat_minor": 2
}
