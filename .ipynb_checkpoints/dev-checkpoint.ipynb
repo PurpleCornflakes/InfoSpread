{
 "cells": [
  {
   "cell_type": "code",
   "execution_count": 38,
   "metadata": {
    "collapsed": false,
    "scrolled": true
   },
   "outputs": [
    {
     "name": "stdout",
     "output_type": "stream",
     "text": [
      "The Cython extension is already loaded. To reload it, use:\n",
      "  %reload_ext Cython\n"
     ]
    }
   ],
   "source": [
    "%load_ext Cython"
   ]
  },
  {
   "cell_type": "code",
   "execution_count": 39,
   "metadata": {
    "collapsed": false,
    "scrolled": false
   },
   "outputs": [],
   "source": [
    "%%cython \n",
    "\n",
    "import networkx as nx\n",
    "import numpy as np\n",
    "cimport numpy as np\n",
    "\n",
    "np.random.seed(2017)\n",
    "\n",
    "def construct_adjlist():\n",
    "    g = nx.barabasi_albert_graph(n=100, m=3,seed=2017)\n",
    "\n",
    "    adjlist = nx.generate_adjlist(g, delimiter=\",\")\n",
    "    adjlist = [np.array([eval(x)]).flatten() for x in adjlist]\n",
    "\n",
    "    lens = [len(x) for x in adjlist]\n",
    "    maxlen = max(lens)\n",
    "    n = g.number_of_nodes()\n",
    "\n",
    "    adjlist_m = np.ones([n, maxlen], dtype = np.int32) * (-1)\n",
    "\n",
    "    for nn in range(n):\n",
    "        adjlist_m[nn, :lens[nn]] = adjlist[nn]\n",
    "\n",
    "    return adjlist_m\n",
    "\n",
    "adjlist_m = construct_adjlist()\n",
    "\n",
    "\n",
    "cdef _info_spread(np.ndarray[np.int32_t, ndim=2] adjlist_m, \\\n",
    "                np.ndarray[np.int32_t, ndim=2] states):  \n",
    "    cdef int N = adjlist_m.shape[0]\n",
    "    cdef float p = 0.2\n",
    "    cdef float lamda = 0.9\n",
    "    cdef Py_ssize_t n_i,n_j\n",
    "    cdef np.ndarray[np.int32_t, ndim = 1] nn_S = np.zeros(N, dtype=np.int32)\n",
    "    cdef np.ndarray[np.float32_t, ndim = 1] alpha_nS = np.zeros(N, dtype=np.float32)\n",
    "    cdef np.ndarray[np.int32_t, ndim=2] new_states = states\n",
    "    \n",
    "    for n_i in range(N):\n",
    "        for n_j in adjlist_m[n_i,:]:\n",
    "            if n_j == -1:\n",
    "                continue\n",
    "            nn_S[n_i] += states[n_j,0]  \n",
    "            \n",
    "    alpha_nS = np.tanh(nn_S/2.0, dtype=np.float32) # when n_s = 4, alpha -> 1\n",
    "    \n",
    "    for n_i in range(N):\n",
    "        if states[n_i,2] == 1:\n",
    "            # n_i is 'R'\n",
    "            continue\n",
    "        if states[n_i,1] == 1:\n",
    "            # n_i is 'I'\n",
    "            if np.random.random() < alpha_nS[n_i]*p:\n",
    "                # I-->S\n",
    "                new_states[n_i,1] = 0\n",
    "                new_states[n_i,0] = 1\n",
    "            elif np.random.random() < alpha_nS[n_i]*(1-p):\n",
    "                # I-->R\n",
    "                new_states[n_i,1] = 0\n",
    "                new_states[n_i,2] = 1\n",
    "        else:\n",
    "            assert(states[n_i,0] == 1)\n",
    "            # n_i is 'S'\n",
    "            if np.random.random() < lamda:\n",
    "                # S -> R\n",
    "                new_states[n_i,0] = 0\n",
    "                new_states[n_i,2] = 1\n",
    "    \n",
    "    return new_states\n",
    "\n",
    "\n",
    "def InfoSpread(np.ndarray[np.int32_t, ndim = 2]adjlist_m, int tmax):\n",
    "    cdef int N = adjlist_m.shape[0]\n",
    "    cdef np.ndarray[np.int32_t, ndim = 2] states = np.zeros([N,3],dtype=np.int32)\n",
    "    cdef np.ndarray[np.int32_t, ndim = 2] statistics = np.zeros([tmax,3],dtype=np.int32)\n",
    "     \n",
    "    # set Ignorants and seeds\n",
    "    states[:,1] = 1\n",
    "    states[0:50,0] = 1\n",
    "#     new_states = states\n",
    "    \n",
    "    for t in range(tmax):\n",
    "#         print('time=',t)\n",
    "        statistics[t,:] = np.sum(states, axis=0)\n",
    "        if statistics[t,0] == 0:\n",
    "            return statistics\n",
    "        states = _info_spread(adjlist_m, states)\n",
    "    return statistics\n",
    "\n",
    "\n",
    "\n",
    "    "
   ]
  },
  {
   "cell_type": "code",
   "execution_count": 40,
   "metadata": {
    "collapsed": false,
    "scrolled": true
   },
   "outputs": [
    {
     "name": "stdout",
     "output_type": "stream",
     "text": [
      "[[ 50 100   0]\n",
      " [ 50  64  24]\n",
      " [ 38  56  41]\n",
      " ..., \n",
      " [ 35  50  50]\n",
      " [ 35  50  50]\n",
      " [ 35  50  50]]\n"
     ]
    }
   ],
   "source": [
    "stat = InfoSpread(adjlist_m, 2000)\n",
    "print(stat)"
   ]
  },
  {
   "cell_type": "code",
   "execution_count": null,
   "metadata": {
    "collapsed": true
   },
   "outputs": [],
   "source": []
  }
 ],
 "metadata": {
  "kernelspec": {
   "display_name": "Python 3",
   "language": "python",
   "name": "python3"
  },
  "language_info": {
   "codemirror_mode": {
    "name": "ipython",
    "version": 3
   },
   "file_extension": ".py",
   "mimetype": "text/x-python",
   "name": "python",
   "nbconvert_exporter": "python",
   "pygments_lexer": "ipython3",
   "version": "3.6.0"
  }
 },
 "nbformat": 4,
 "nbformat_minor": 2
}
