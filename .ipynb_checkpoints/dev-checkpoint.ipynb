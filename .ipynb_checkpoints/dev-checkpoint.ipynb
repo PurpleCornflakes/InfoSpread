{
 "cells": [
  {
   "cell_type": "code",
   "execution_count": 1,
   "metadata": {
    "collapsed": false
   },
   "outputs": [],
   "source": [
    "%load_ext Cython"
   ]
  },
  {
   "cell_type": "code",
   "execution_count": 10,
   "metadata": {
    "collapsed": false,
    "scrolled": true
   },
   "outputs": [
    {
     "ename": "ValueError",
     "evalue": "Buffer dtype mismatch, expected 'int32_t' but got 'long'",
     "output_type": "error",
     "traceback": [
      "\u001b[0;31m---------------------------------------------------------------------------\u001b[0m",
      "\u001b[0;31mValueError\u001b[0m                                Traceback (most recent call last)",
      "\u001b[0;32m<ipython-input-10-1a9e5ff141bc>\u001b[0m in \u001b[0;36m<module>\u001b[0;34m()\u001b[0m\n\u001b[0;32m----> 1\u001b[0;31m \u001b[0mget_ipython\u001b[0m\u001b[0;34m(\u001b[0m\u001b[0;34m)\u001b[0m\u001b[0;34m.\u001b[0m\u001b[0mrun_cell_magic\u001b[0m\u001b[0;34m(\u001b[0m\u001b[0;34m'cython'\u001b[0m\u001b[0;34m,\u001b[0m \u001b[0;34m''\u001b[0m\u001b[0;34m,\u001b[0m \u001b[0;34m'\\nimport networkx as nx\\nimport numpy as np\\ncimport numpy as np\\nfrom numpy.random import *\\n\\nseed(2017)\\n\\ndef construct_adjlist():\\n    g = nx.barabasi_albert_graph(n=20, m=3,seed=2017)\\n\\n    adjlist = nx.generate_adjlist(g, delimiter=\",\")\\n    adjlist = [np.array([eval(x)]).flatten() for x in adjlist]\\n\\n    lens = [len(x) for x in adjlist]\\n    maxlen = max(lens)\\n    n = g.number_of_nodes()\\n\\n    adjlist_m = np.ones([n, maxlen], dtype = int) * (-1)\\n\\n    for nn in range(n):\\n        adjlist_m[nn, :lens[nn]] = adjlist[nn]\\n\\n    return adjlist_m\\n\\nadjlist_m = construct_adjlist()\\nN = adjlist_m.shape[0]\\np = 0.2\\nlamda = 0.3\\n\\ncdef _info_spread(np.ndarray[np.int32_t, ndim=2] adjlist_m, \\\\\\n                np.ndarray[np.int32_t, ndim=2] states, \\\\\\n                np.ndarray[np.int32_t, ndim=1] alpha_nS, int t):  \\n    \\n    cdef np.ndarray[np.int32_t, ndim=2] new_states = states\\n    cdef int n_i\\n    \\n    for n_i in range(N):\\n        if states[n_i,2] == 1:\\n            # n_i is \\'R\\'\\n            continue\\n        if states[n_i,1] == 1:\\n            # n_i is \\'I\\'\\n            if random() < alpha_nS[n_i]*p:\\n                # I-->S\\n                new_states[n_i,1] = 0\\n                new_states[n_i,0] = 1\\n            elif random() < alpha_nS[n_i]*(1-p):\\n                # I-->R\\n                new_states[n_i,1] = 0\\n                new_states[n_i,2] = 1\\n        else:\\n            assert(states[n_i,0] == 1)\\n            # n_i is \\'S\\'\\n            if random() < lamda:\\n                # S -> R\\n                new_states[n_i,0] = 0\\n                new_states[n_i,2] = 1\\n    \\n    return new_states\\n\\n\\ndef InfoSpread(np.ndarray[np.int32_t, ndim = 2]adjlist_m, int tmax):\\n    cdef np.ndarray[np.int32_t, ndim = 2] states = np.zeros([N,3],dtype=np.int32)\\n    cdef np.ndarray[np.int32_t, ndim = 2] new_states = np.zeros([N,3],dtype=np.int32)\\n    cdef np.ndarray[np.int32_t, ndim = 1] nn_S = np.zeros(N, dtype=np.int32)\\n    cdef np.ndarray[np.int32_t, ndim = 1] alpha_nS = np.zeros(N, dtype=np.float32)\\n    cdef np.ndarray[np.int32_t, ndim = 2] statistics = np.zeros([tmax,3],dtype=np.float32)\\n    cdef int n_i\\n    cdef int n_j\\n    \\n    for n_i in range(N):\\n        for n_j in adjlist_m[n_i,:]:\\n            if n_j == -1:\\n                continue\\n            nn_S[n_i] += states[n_j,0]   \\n    alpha_nS = np.tanh(nn_S/2.0) # when n_s = 4, alpha -> 1\\n    \\n    # set Ignorants and seeds\\n    states[:,1] = 1\\n    states[0:5,0] = 1\\n    new_states = states\\n    \\n    \\n    for t in range(tmax):\\n        statistics[t,:] = np.sum(states, axis=0)\\n        while statistics[t,0] > 0:\\n            states = _info_spread(adjlist_m, states, alpha_nS, t)\\n    return statistics\\n\\n\\nstat = InfoSpread(adjlist_m, 1)\\nprint(adjlist_m)'\u001b[0m\u001b[0;34m)\u001b[0m\u001b[0;34m\u001b[0m\u001b[0m\n\u001b[0m",
      "\u001b[0;32m/Users/qinglingzhang/anaconda/lib/python3.6/site-packages/IPython/core/interactiveshell.py\u001b[0m in \u001b[0;36mrun_cell_magic\u001b[0;34m(self, magic_name, line, cell)\u001b[0m\n\u001b[1;32m   2113\u001b[0m             \u001b[0mmagic_arg_s\u001b[0m \u001b[0;34m=\u001b[0m \u001b[0mself\u001b[0m\u001b[0;34m.\u001b[0m\u001b[0mvar_expand\u001b[0m\u001b[0;34m(\u001b[0m\u001b[0mline\u001b[0m\u001b[0;34m,\u001b[0m \u001b[0mstack_depth\u001b[0m\u001b[0;34m)\u001b[0m\u001b[0;34m\u001b[0m\u001b[0m\n\u001b[1;32m   2114\u001b[0m             \u001b[0;32mwith\u001b[0m \u001b[0mself\u001b[0m\u001b[0;34m.\u001b[0m\u001b[0mbuiltin_trap\u001b[0m\u001b[0;34m:\u001b[0m\u001b[0;34m\u001b[0m\u001b[0m\n\u001b[0;32m-> 2115\u001b[0;31m                 \u001b[0mresult\u001b[0m \u001b[0;34m=\u001b[0m \u001b[0mfn\u001b[0m\u001b[0;34m(\u001b[0m\u001b[0mmagic_arg_s\u001b[0m\u001b[0;34m,\u001b[0m \u001b[0mcell\u001b[0m\u001b[0;34m)\u001b[0m\u001b[0;34m\u001b[0m\u001b[0m\n\u001b[0m\u001b[1;32m   2116\u001b[0m             \u001b[0;32mreturn\u001b[0m \u001b[0mresult\u001b[0m\u001b[0;34m\u001b[0m\u001b[0m\n\u001b[1;32m   2117\u001b[0m \u001b[0;34m\u001b[0m\u001b[0m\n",
      "\u001b[0;32m<decorator-gen-124>\u001b[0m in \u001b[0;36mcython\u001b[0;34m(self, line, cell)\u001b[0m\n",
      "\u001b[0;32m/Users/qinglingzhang/anaconda/lib/python3.6/site-packages/IPython/core/magic.py\u001b[0m in \u001b[0;36m<lambda>\u001b[0;34m(f, *a, **k)\u001b[0m\n\u001b[1;32m    186\u001b[0m     \u001b[0;31m# but it's overkill for just that one bit of state.\u001b[0m\u001b[0;34m\u001b[0m\u001b[0;34m\u001b[0m\u001b[0m\n\u001b[1;32m    187\u001b[0m     \u001b[0;32mdef\u001b[0m \u001b[0mmagic_deco\u001b[0m\u001b[0;34m(\u001b[0m\u001b[0marg\u001b[0m\u001b[0;34m)\u001b[0m\u001b[0;34m:\u001b[0m\u001b[0;34m\u001b[0m\u001b[0m\n\u001b[0;32m--> 188\u001b[0;31m         \u001b[0mcall\u001b[0m \u001b[0;34m=\u001b[0m \u001b[0;32mlambda\u001b[0m \u001b[0mf\u001b[0m\u001b[0;34m,\u001b[0m \u001b[0;34m*\u001b[0m\u001b[0ma\u001b[0m\u001b[0;34m,\u001b[0m \u001b[0;34m**\u001b[0m\u001b[0mk\u001b[0m\u001b[0;34m:\u001b[0m \u001b[0mf\u001b[0m\u001b[0;34m(\u001b[0m\u001b[0;34m*\u001b[0m\u001b[0ma\u001b[0m\u001b[0;34m,\u001b[0m \u001b[0;34m**\u001b[0m\u001b[0mk\u001b[0m\u001b[0;34m)\u001b[0m\u001b[0;34m\u001b[0m\u001b[0m\n\u001b[0m\u001b[1;32m    189\u001b[0m \u001b[0;34m\u001b[0m\u001b[0m\n\u001b[1;32m    190\u001b[0m         \u001b[0;32mif\u001b[0m \u001b[0mcallable\u001b[0m\u001b[0;34m(\u001b[0m\u001b[0marg\u001b[0m\u001b[0;34m)\u001b[0m\u001b[0;34m:\u001b[0m\u001b[0;34m\u001b[0m\u001b[0m\n",
      "\u001b[0;32m/Users/qinglingzhang/anaconda/lib/python3.6/site-packages/Cython/Build/IpythonMagic.py\u001b[0m in \u001b[0;36mcython\u001b[0;34m(self, line, cell)\u001b[0m\n\u001b[1;32m    292\u001b[0m             \u001b[0mself\u001b[0m\u001b[0;34m.\u001b[0m\u001b[0m_code_cache\u001b[0m\u001b[0;34m[\u001b[0m\u001b[0mkey\u001b[0m\u001b[0;34m]\u001b[0m \u001b[0;34m=\u001b[0m \u001b[0mmodule_name\u001b[0m\u001b[0;34m\u001b[0m\u001b[0m\n\u001b[1;32m    293\u001b[0m \u001b[0;34m\u001b[0m\u001b[0m\n\u001b[0;32m--> 294\u001b[0;31m         \u001b[0mmodule\u001b[0m \u001b[0;34m=\u001b[0m \u001b[0mimp\u001b[0m\u001b[0;34m.\u001b[0m\u001b[0mload_dynamic\u001b[0m\u001b[0;34m(\u001b[0m\u001b[0mmodule_name\u001b[0m\u001b[0;34m,\u001b[0m \u001b[0mmodule_path\u001b[0m\u001b[0;34m)\u001b[0m\u001b[0;34m\u001b[0m\u001b[0m\n\u001b[0m\u001b[1;32m    295\u001b[0m         \u001b[0mself\u001b[0m\u001b[0;34m.\u001b[0m\u001b[0m_import_all\u001b[0m\u001b[0;34m(\u001b[0m\u001b[0mmodule\u001b[0m\u001b[0;34m)\u001b[0m\u001b[0;34m\u001b[0m\u001b[0m\n\u001b[1;32m    296\u001b[0m \u001b[0;34m\u001b[0m\u001b[0m\n",
      "\u001b[0;32m/Users/qinglingzhang/anaconda/lib/python3.6/imp.py\u001b[0m in \u001b[0;36mload_dynamic\u001b[0;34m(name, path, file)\u001b[0m\n\u001b[1;32m    340\u001b[0m         spec = importlib.machinery.ModuleSpec(\n\u001b[1;32m    341\u001b[0m             name=name, loader=loader, origin=path)\n\u001b[0;32m--> 342\u001b[0;31m         \u001b[0;32mreturn\u001b[0m \u001b[0m_load\u001b[0m\u001b[0;34m(\u001b[0m\u001b[0mspec\u001b[0m\u001b[0;34m)\u001b[0m\u001b[0;34m\u001b[0m\u001b[0m\n\u001b[0m\u001b[1;32m    343\u001b[0m \u001b[0;34m\u001b[0m\u001b[0m\n\u001b[1;32m    344\u001b[0m \u001b[0;32melse\u001b[0m\u001b[0;34m:\u001b[0m\u001b[0;34m\u001b[0m\u001b[0m\n",
      "\u001b[0;32m/Users/qinglingzhang/anaconda/lib/python3.6/importlib/_bootstrap.py\u001b[0m in \u001b[0;36m_load\u001b[0;34m(spec)\u001b[0m\n",
      "\u001b[0;32m/Users/qinglingzhang/anaconda/lib/python3.6/importlib/_bootstrap.py\u001b[0m in \u001b[0;36m_load_unlocked\u001b[0;34m(spec)\u001b[0m\n",
      "\u001b[0;32m/Users/qinglingzhang/anaconda/lib/python3.6/importlib/_bootstrap.py\u001b[0m in \u001b[0;36mmodule_from_spec\u001b[0;34m(spec)\u001b[0m\n",
      "\u001b[0;32m/Users/qinglingzhang/anaconda/lib/python3.6/importlib/_bootstrap_external.py\u001b[0m in \u001b[0;36mcreate_module\u001b[0;34m(self, spec)\u001b[0m\n",
      "\u001b[0;32m/Users/qinglingzhang/anaconda/lib/python3.6/importlib/_bootstrap.py\u001b[0m in \u001b[0;36m_call_with_frames_removed\u001b[0;34m(f, *args, **kwds)\u001b[0m\n",
      "\u001b[0;32m_cython_magic_b23923ce58273f7b82eb92c6553f9c14.pyx\u001b[0m in \u001b[0;36minit _cython_magic_b23923ce58273f7b82eb92c6553f9c14 (/Users/qinglingzhang/.ipython/cython/_cython_magic_b23923ce58273f7b82eb92c6553f9c14.c:7068)\u001b[0;34m()\u001b[0m\n",
      "\u001b[0;32m_cython_magic_b23923ce58273f7b82eb92c6553f9c14.pyx\u001b[0m in \u001b[0;36m_cython_magic_b23923ce58273f7b82eb92c6553f9c14.InfoSpread (/Users/qinglingzhang/.ipython/cython/_cython_magic_b23923ce58273f7b82eb92c6553f9c14.c:2965)\u001b[0;34m()\u001b[0m\n",
      "\u001b[0;31mValueError\u001b[0m: Buffer dtype mismatch, expected 'int32_t' but got 'long'"
     ]
    }
   ],
   "source": [
    "%%cython\n",
    "\n",
    "import networkx as nx\n",
    "import numpy as np\n",
    "cimport numpy as np\n",
    "from numpy.random import *\n",
    "\n",
    "seed(2017)\n",
    "\n",
    "def construct_adjlist():\n",
    "    g = nx.barabasi_albert_graph(n=20, m=3,seed=2017)\n",
    "\n",
    "    adjlist = nx.generate_adjlist(g, delimiter=\",\")\n",
    "    adjlist = [np.array([eval(x)]).flatten() for x in adjlist]\n",
    "\n",
    "    lens = [len(x) for x in adjlist]\n",
    "    maxlen = max(lens)\n",
    "    n = g.number_of_nodes()\n",
    "\n",
    "    adjlist_m = np.ones([n, maxlen], dtype = int) * (-1)\n",
    "\n",
    "    for nn in range(n):\n",
    "        adjlist_m[nn, :lens[nn]] = adjlist[nn]\n",
    "\n",
    "    return adjlist_m\n",
    "\n",
    "adjlist_m = construct_adjlist()\n",
    "N = adjlist_m.shape[0]\n",
    "p = 0.2\n",
    "lamda = 0.3\n",
    "\n",
    "cdef _info_spread(np.ndarray[np.int32_t, ndim=2] adjlist_m, \\\n",
    "                np.ndarray[np.int32_t, ndim=2] states, \\\n",
    "                np.ndarray[np.int32_t, ndim=1] alpha_nS, int t):  \n",
    "    \n",
    "    cdef np.ndarray[np.int32_t, ndim=2] new_states = states\n",
    "    cdef int n_i\n",
    "    \n",
    "    for n_i in range(N):\n",
    "        if states[n_i,2] == 1:\n",
    "            # n_i is 'R'\n",
    "            continue\n",
    "        if states[n_i,1] == 1:\n",
    "            # n_i is 'I'\n",
    "            if random() < alpha_nS[n_i]*p:\n",
    "                # I-->S\n",
    "                new_states[n_i,1] = 0\n",
    "                new_states[n_i,0] = 1\n",
    "            elif random() < alpha_nS[n_i]*(1-p):\n",
    "                # I-->R\n",
    "                new_states[n_i,1] = 0\n",
    "                new_states[n_i,2] = 1\n",
    "        else:\n",
    "            assert(states[n_i,0] == 1)\n",
    "            # n_i is 'S'\n",
    "            if random() < lamda:\n",
    "                # S -> R\n",
    "                new_states[n_i,0] = 0\n",
    "                new_states[n_i,2] = 1\n",
    "    \n",
    "    return new_states\n",
    "\n",
    "\n",
    "def InfoSpread(np.ndarray[np.int32_t, ndim = 2]adjlist_m, int tmax):\n",
    "    cdef np.ndarray[np.int32_t, ndim = 2] states = np.zeros([N,3],dtype=np.int32)\n",
    "    cdef np.ndarray[np.int32_t, ndim = 2] new_states = np.zeros([N,3],dtype=np.int32)\n",
    "    cdef np.ndarray[np.int32_t, ndim = 1] nn_S = np.zeros(N, dtype=np.int32)\n",
    "    cdef np.ndarray[np.int32_t, ndim = 1] alpha_nS = np.zeros(N, dtype=np.float32)\n",
    "    cdef np.ndarray[np.int32_t, ndim = 2] statistics = np.zeros([tmax,3],dtype=np.float32)\n",
    "    cdef int n_i\n",
    "    cdef int n_j\n",
    "    \n",
    "    for n_i in range(N):\n",
    "        for n_j in adjlist_m[n_i,:]:\n",
    "            if n_j == -1:\n",
    "                continue\n",
    "            nn_S[n_i] += states[n_j,0]   \n",
    "    alpha_nS = np.tanh(nn_S/2.0) # when n_s = 4, alpha -> 1\n",
    "    \n",
    "    # set Ignorants and seeds\n",
    "    states[:,1] = 1\n",
    "    states[0:5,0] = 1\n",
    "    new_states = states\n",
    "    \n",
    "    \n",
    "    for t in range(tmax):\n",
    "        statistics[t,:] = np.sum(states, axis=0)\n",
    "        while statistics[t,0] > 0:\n",
    "            states = _info_spread(adjlist_m, states, alpha_nS, t)\n",
    "    return statistics\n",
    "\n",
    "\n",
    "stat = InfoSpread(adjlist_m, 1)\n",
    "print(adjlist_m)"
   ]
  },
  {
   "cell_type": "code",
   "execution_count": 9,
   "metadata": {
    "collapsed": false
   },
   "outputs": [
    {
     "name": "stderr",
     "output_type": "stream",
     "text": [
      "\n",
      "Error compiling Cython file:\n",
      "------------------------------------------------------------\n",
      "...\n",
      "        while statistics[t,0] > 0:\n",
      "            states = _info_spread(adjlist_m, states, alpha_nS, t)\n",
      "    return statistics\n",
      "\n",
      "\n",
      "stat = InfoSpread(adjlist_m, 1)\n",
      "                          ^\n",
      "------------------------------------------------------------\n",
      "\n",
      "/Users/qinglingzhang/.ipython/cython/_cython_magic_8deb62d05c39804486648c79156937c4.pyx:64:27: undeclared name not builtin: adjlist_m\n",
      "\n",
      "Error compiling Cython file:\n",
      "------------------------------------------------------------\n",
      "...\n",
      "                np.ndarray[np.int32_t, ndim=1] alpha_nS, int t):  \n",
      "    \n",
      "    cdef np.ndarray[np.int32_t, ndim=2] new_states = states\n",
      "    cdef int n_i\n",
      "    \n",
      "    for n_i in range(N):\n",
      "                     ^\n",
      "------------------------------------------------------------\n",
      "\n",
      "/Users/qinglingzhang/.ipython/cython/_cython_magic_8deb62d05c39804486648c79156937c4.pyx:10:22: undeclared name not builtin: N\n",
      "\n",
      "Error compiling Cython file:\n",
      "------------------------------------------------------------\n",
      "...\n",
      "        if states[n_i,2] == 1:\n",
      "            # n_i is 'R'\n",
      "            continue\n",
      "        if states[n_i,1] == 1:\n",
      "            # n_i is 'I'\n",
      "            if random() < alpha_nS[n_i]*p:\n",
      "                    ^\n",
      "------------------------------------------------------------\n",
      "\n",
      "/Users/qinglingzhang/.ipython/cython/_cython_magic_8deb62d05c39804486648c79156937c4.pyx:16:21: undeclared name not builtin: random\n",
      "\n",
      "Error compiling Cython file:\n",
      "------------------------------------------------------------\n",
      "...\n",
      "        if states[n_i,2] == 1:\n",
      "            # n_i is 'R'\n",
      "            continue\n",
      "        if states[n_i,1] == 1:\n",
      "            # n_i is 'I'\n",
      "            if random() < alpha_nS[n_i]*p:\n",
      "                                        ^\n",
      "------------------------------------------------------------\n",
      "\n",
      "/Users/qinglingzhang/.ipython/cython/_cython_magic_8deb62d05c39804486648c79156937c4.pyx:16:41: undeclared name not builtin: p\n",
      "\n",
      "Error compiling Cython file:\n",
      "------------------------------------------------------------\n",
      "...\n",
      "                new_states[n_i,1] = 0\n",
      "                new_states[n_i,2] = 1\n",
      "        else:\n",
      "            assert(states[n_i,0] == 1)\n",
      "            # n_i is 'S'\n",
      "            if random() < lamda:\n",
      "                              ^\n",
      "------------------------------------------------------------\n",
      "\n",
      "/Users/qinglingzhang/.ipython/cython/_cython_magic_8deb62d05c39804486648c79156937c4.pyx:27:31: undeclared name not builtin: lamda\n"
     ]
    }
   ],
   "source": []
  },
  {
   "cell_type": "code",
   "execution_count": 7,
   "metadata": {
    "collapsed": false
   },
   "outputs": [],
   "source": [
    "\n"
   ]
  },
  {
   "cell_type": "code",
   "execution_count": 5,
   "metadata": {
    "collapsed": false,
    "scrolled": true
   },
   "outputs": [
    {
     "name": "stdout",
     "output_type": "stream",
     "text": [
      "200\n"
     ]
    }
   ],
   "source": []
  },
  {
   "cell_type": "code",
   "execution_count": null,
   "metadata": {
    "collapsed": true
   },
   "outputs": [],
   "source": []
  }
 ],
 "metadata": {
  "kernelspec": {
   "display_name": "Python 3",
   "language": "python",
   "name": "python3"
  },
  "language_info": {
   "codemirror_mode": {
    "name": "ipython",
    "version": 3
   },
   "file_extension": ".py",
   "mimetype": "text/x-python",
   "name": "python",
   "nbconvert_exporter": "python",
   "pygments_lexer": "ipython3",
   "version": "3.6.0"
  }
 },
 "nbformat": 4,
 "nbformat_minor": 2
}
