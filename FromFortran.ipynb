{
 "cells": [
  {
   "cell_type": "code",
   "execution_count": 66,
   "metadata": {
    "collapsed": false
   },
   "outputs": [
    {
     "name": "stdout",
     "output_type": "stream",
     "text": [
      "The Cython extension is already loaded. To reload it, use:\n",
      "  %reload_ext Cython\n"
     ]
    }
   ],
   "source": [
    "%load_ext Cython"
   ]
  },
  {
   "cell_type": "code",
   "execution_count": 67,
   "metadata": {
    "collapsed": true
   },
   "outputs": [],
   "source": [
    "import networkx as nx\n",
    "import numpy as np\n",
    "def construct_adjlist():\n",
    "    g = nx.barabasi_albert_graph(n=500, m=3,seed=2017)\n",
    "\n",
    "    adjlist = nx.generate_adjlist(g, delimiter=\",\")\n",
    "    adjlist = [np.array([eval(x)]).flatten() for x in adjlist]\n",
    "\n",
    "    lens = [len(x) for x in adjlist]\n",
    "    maxlen = max(lens)\n",
    "    n = g.number_of_nodes()\n",
    "\n",
    "    adjlist_m = np.ones([n, maxlen], dtype = np.int32) * (-1)\n",
    "\n",
    "    for nn in range(n):\n",
    "        adjlist_m[nn, :lens[nn]] = adjlist[nn]\n",
    "\n",
    "    return adjlist_m\n",
    "\n",
    "adjlist_m = construct_adjlist()"
   ]
  },
  {
   "cell_type": "code",
   "execution_count": 68,
   "metadata": {
    "collapsed": false
   },
   "outputs": [],
   "source": [
    "%%cython \n",
    "import numpy as np\n",
    "cimport numpy as np\n",
    "\n",
    "np.random.seed(2017)\n",
    "\n",
    "cdef _info_spread(np.ndarray[np.int32_t, ndim=2] adjlist_m, \\\n",
    "                np.ndarray[np.int32_t, ndim=1] states):  \n",
    "    cdef int N = adjlist_m.shape[0]\n",
    "    cdef int change = 0\n",
    "    cdef float alpha = 0.4\n",
    "    cdef float p = 0.2\n",
    "    cdef float lamda = 0.2\n",
    "    cdef Py_ssize_t n_i,n_j\n",
    "    cdef np.ndarray[np.int32_t, ndim=1] new_states = states\n",
    "    \n",
    "    for n_i in range(N):\n",
    "        # n_i is not 'S'\n",
    "        if states[n_i] == 2 or states[n_i] == 0:\n",
    "            continue \n",
    "            \n",
    "        # n_i is 'S'\n",
    "        for n_j in adjlist_m[n_i]: \n",
    "            # n_j is 'I'\n",
    "            if states[n_j] == 0:\n",
    "                # I-->S\n",
    "                if np.random.random() < alpha*p:\n",
    "                    new_states[n_j] = 1\n",
    "                    change += 1\n",
    "                # I-->R\n",
    "                elif np.random.random() < alpha*(1-p):\n",
    "                    new_states[n_j] = 2\n",
    "                    change += 1\n",
    "            # n_j is 'R' or 'S'\n",
    "            elif np.random.random() < lamda:\n",
    "                    # S -> R\n",
    "                    new_states[n_i] = 2\n",
    "                    change += 1\n",
    "            \n",
    "    return new_states,change\n",
    "\n",
    "\n",
    "def InfoSpread(np.ndarray[np.int32_t, ndim = 2]adjlist_m):\n",
    "    cdef int N = adjlist_m.shape[0]\n",
    "    cdef np.ndarray[np.int32_t, ndim = 1] states = np.zeros(N,dtype=np.int32)\n",
    "    cdef int change = 1\n",
    "    # set Ignorants and seeds\n",
    "    states[0:5] = 1\n",
    "    while change:\n",
    "        states,change = _info_spread(adjlist_m, states)\n",
    "    return states"
   ]
  },
  {
   "cell_type": "code",
   "execution_count": 70,
   "metadata": {
    "collapsed": false
   },
   "outputs": [],
   "source": [
    "final_states = InfoSpread(adjlist_m)\n",
    "\n",
    "final_density_stifler = sum(np.where(np.array(final_states) == 2, 1, 0))"
   ]
  },
  {
   "cell_type": "code",
   "execution_count": 73,
   "metadata": {
    "collapsed": false
   },
   "outputs": [
    {
     "name": "stdout",
     "output_type": "stream",
     "text": [
      "0\n"
     ]
    }
   ],
   "source": []
  },
  {
   "cell_type": "code",
   "execution_count": 65,
   "metadata": {
    "collapsed": false
   },
   "outputs": [
    {
     "name": "stdout",
     "output_type": "stream",
     "text": [
      "[0 0 1 1 0 0]\n"
     ]
    }
   ],
   "source": [
    "import numpy as np\n",
    "\n",
    "a = np.array([1,2,3,3,4,5])\n",
    "\n",
    "print(np.where(a==3,1,0))"
   ]
  },
  {
   "cell_type": "code",
   "execution_count": null,
   "metadata": {
    "collapsed": true
   },
   "outputs": [],
   "source": []
  }
 ],
 "metadata": {
  "kernelspec": {
   "display_name": "Python 3",
   "language": "python",
   "name": "python3"
  },
  "language_info": {
   "codemirror_mode": {
    "name": "ipython",
    "version": 3
   },
   "file_extension": ".py",
   "mimetype": "text/x-python",
   "name": "python",
   "nbconvert_exporter": "python",
   "pygments_lexer": "ipython3",
   "version": "3.6.0"
  }
 },
 "nbformat": 4,
 "nbformat_minor": 2
}
