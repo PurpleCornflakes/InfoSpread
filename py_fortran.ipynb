{
 "cells": [
  {
   "cell_type": "code",
   "execution_count": 5,
   "metadata": {
    "collapsed": true
   },
   "outputs": [],
   "source": [
    "import networkx as nx\n",
    "import numpy as np\n",
    "def construct_adjlist():\n",
    "    g = nx.barabasi_albert_graph(n=30, m=3,seed=2017)\n",
    "\n",
    "    adjlist = nx.generate_adjlist(g, delimiter=\",\")\n",
    "    adjlist = [np.array([eval(x)]).flatten() for x in adjlist]\n",
    "\n",
    "    lens = [len(x) for x in adjlist]\n",
    "    maxlen = max(lens)\n",
    "    n = g.number_of_nodes()\n",
    "\n",
    "    adjlist_m = np.ones([n, maxlen], dtype = np.int32) * (-1)\n",
    "\n",
    "    for nn in range(n):\n",
    "        adjlist_m[nn, :lens[nn]] = adjlist[nn]\n",
    "\n",
    "    return adjlist_m\n",
    "\n",
    "adjlist_m = construct_adjlist()\n",
    "\n",
    "np.random.seed(2017)\n",
    "\n",
    "def _info_spread(adjlist_m,states):  \n",
    "    N = adjlist_m.shape[0]\n",
    "    change = 0\n",
    "    alpha = 0.4\n",
    "    p = 0.2\n",
    "    lamda = 0.2\n",
    "    new_states = states\n",
    "    \n",
    "    for n_i in range(N):\n",
    "        # n_i is not 'S'\n",
    "        if states[n_i] == 2 or states[n_i] == 0:\n",
    "            continue \n",
    "            \n",
    "        # n_i is 'S'\n",
    "        for n_j in adjlist_m[n_i]: \n",
    "            # n_j is 'I'\n",
    "            if states[n_j] == 0:\n",
    "                # I-->S\n",
    "                if np.random.random() < alpha*p:\n",
    "                    new_states[n_j] = 1\n",
    "                    change += 1\n",
    "                # I-->R\n",
    "                elif np.random.random() < alpha*(1-p):\n",
    "                    new_states[n_j] = 2\n",
    "                    change += 1\n",
    "            # n_j is 'R' or 'S'\n",
    "            elif np.random.random() < lamda:\n",
    "                    # S -> R\n",
    "                    new_states[n_i] = 2\n",
    "                    change += 1\n",
    "            \n",
    "    return new_states,change\n",
    "\n",
    "\n",
    "def InfoSpread(adjlist_m):\n",
    "    N = adjlist_m.shape[0]\n",
    "    states = np.zeros(N,dtype=np.int32)\n",
    "    change = 1\n",
    "    # set Ignorants and seeds\n",
    "    states[0:5] = 1\n",
    "    while change:\n",
    "        states,change = _info_spread(adjlist_m, states)\n",
    "    return states"
   ]
  },
  {
   "cell_type": "code",
   "execution_count": 6,
   "metadata": {
    "collapsed": false
   },
   "outputs": [],
   "source": [
    "final_states = InfoSpread(adjlist_m)"
   ]
  },
  {
   "cell_type": "code",
   "execution_count": null,
   "metadata": {
    "collapsed": true
   },
   "outputs": [],
   "source": []
  }
 ],
 "metadata": {
  "kernelspec": {
   "display_name": "Python 3",
   "language": "python",
   "name": "python3"
  },
  "language_info": {
   "codemirror_mode": {
    "name": "ipython",
    "version": 3
   },
   "file_extension": ".py",
   "mimetype": "text/x-python",
   "name": "python",
   "nbconvert_exporter": "python",
   "pygments_lexer": "ipython3",
   "version": "3.6.0"
  }
 },
 "nbformat": 4,
 "nbformat_minor": 2
}
